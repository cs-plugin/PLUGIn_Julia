{
 "cells": [
  {
   "cell_type": "code",
   "execution_count": 1,
   "metadata": {},
   "outputs": [],
   "source": [
    "using BSON: @load\n",
    "using Flux\n",
    "using Flux: chunk\n",
    "using Flux.Data: DataLoader\n",
    "using ImageFiltering\n",
    "using Images\n",
    "using ImageIO\n",
    "using MLDatasets: FashionMNIST\n",
    "using LinearAlgebra\n",
    "using MLDatasets\n",
    "using Plots\n",
    "using Zygote"
   ]
  },
  {
   "cell_type": "code",
   "execution_count": 4,
   "metadata": {},
   "outputs": [
    {
     "data": {
      "text/plain": [
       "PLUGIn_CS (generic function with 1 method)"
      ]
     },
     "execution_count": 4,
     "metadata": {},
     "output_type": "execute_result"
    }
   ],
   "source": [
    "function PLUGIn_CS(G, y, A, max_iter, stepsize, tolerance, out_toggle)\n",
    "    \n",
    "    (_, z_dim) = size(Flux.params(G[1])[1]);\n",
    "    W = I(z_dim)\n",
    "  \n",
    "    #normalize the weights of the network\n",
    "    for i in 1:length(G)\n",
    "        _, s, _ = svd(Flux.params(G[i])[1])\n",
    "        W = Flux.params(G[i])[1] * W /s[1]\n",
    "    end\n",
    "  \n",
    "    z = randn(z_dim)\n",
    "    iter = 1\n",
    "    succ_error = 1\n",
    "  \n",
    "    while iter <= max_iter && succ_error > tolerance\n",
    "      \n",
    "      # d gives the PLUGIn direction\n",
    "      d = W'*A'*(A * G(z) - y)\n",
    "      z -= stepsize * d\n",
    "      succ_error = norm(stepsize * d)\n",
    "      if iter % out_toggle == 0  \n",
    "          println(\"====> In quasi-gradient: Iteration: $iter Successive error: $succ_error\")\n",
    "      end\n",
    "      iter += 1\n",
    "    end\n",
    "    println(\"====> In quasi-gradient: Iteration: $iter Successive error: $succ_error\")\n",
    "  \n",
    "    return z\n",
    "  end"
   ]
  },
  {
   "cell_type": "code",
   "execution_count": 5,
   "metadata": {},
   "outputs": [
    {
     "data": {
      "text/plain": [
       "GD_CS (generic function with 1 method)"
      ]
     },
     "execution_count": 5,
     "metadata": {},
     "output_type": "execute_result"
    }
   ],
   "source": [
    "function GD_CS(G, y, A, max_iter, stepsize, tolerance, out_toggle)\n",
    "\n",
    "    z = randn(20)\n",
    "    iter = 1\n",
    "    succ_error = 1\n",
    "    while iter <= max_iter && succ_error > tolerance\n",
    "        # d gives the PLUGIn direction\n",
    "        d = gradient(z -> norm(y - A*G(z)), z)[1]\n",
    "        z -= stepsize * d\n",
    "        succ_error = norm(stepsize * d)\n",
    "        if iter % out_toggle == 0  \n",
    "            println(\"====> In quasi-gradient: Iteration: $iter Successive error: $succ_error\")\n",
    "        end\n",
    "        iter += 1\n",
    "    end\n",
    "    println(\"====> In quasi-gradient: Iteration: $iter Successive error: $succ_error\")\n",
    "\n",
    "    return z\n",
    "end"
   ]
  },
  {
   "cell_type": "code",
   "execution_count": 6,
   "metadata": {},
   "outputs": [
    {
     "name": "stdout",
     "output_type": "stream",
     "text": [
      "====> In quasi-gradient: Iteration: 1000 Successive error: 1.3891497505176428e-6\n",
      "====> In quasi-gradient: Iteration: 2000 Successive error: 3.003660410560363e-12\n",
      "====> In quasi-gradient: Iteration: 2629 Successive error: 9.995345990837655e-15\n",
      "recovery error: 7.934372362998921e-13, reconstruction error: 2.1282139821963709e-13\n"
     ]
    }
   ],
   "source": [
    "#setup a synthetic problem\n",
    "G = Chain(\n",
    "    Dense(20, 500, relu, bias = false; initW =(out,in) ->  randn(500, 20)/sqrt(500)),\n",
    "    Dense(500, 500, relu, bias = false; initW =(out,in) -> randn(500, 500)/sqrt(500)),\n",
    "    Dense(500, 784, relu, bias = false; initW =(out,in) -> randn(784, 500)/sqrt(784))\n",
    ")\n",
    "\n",
    "\n",
    "z = randn(20)\n",
    "m = 300; A = randn(m, 784)/sqrt(m)\n",
    "y = A*G(z) + 1e-14 * randn(m)\n",
    "\n",
    "stepsize = 2\n",
    "tolerance = 1e-14\n",
    "max_iter = 10000\n",
    "out_toggle = 1000\n",
    "z_rec = PLUGIn_CS(G,y,A, max_iter, stepsize, tolerance, out_toggle)\n",
    "recov_error = norm(z - z_rec)\n",
    "recon_error = norm(G(z) - G(z_rec))\n",
    "println(\"recovery error: $recov_error, reconstruction error: $recon_error\")"
   ]
  },
  {
   "cell_type": "code",
   "execution_count": null,
   "metadata": {},
   "outputs": [
    {
     "name": "stdin",
     "output_type": "stream",
     "text": [
      "stdin>  \n",
      "stdin>  \n",
      "stdin>  \n",
      "stdin>  help\n",
      "stdin>  send help\n",
      "stdin>  /help\n",
      "stdin>  1.23\n",
      "stdin>  argh\n",
      "stdin>  get help\n",
      "stdin>  send help\n"
     ]
    }
   ],
   "source": [
    "# experiments with MNIST dataset\n",
    "function load_model(load_dir::String, epoch::Int)\n",
    "    print(\"Loading model...\")\n",
    "    @load joinpath(load_dir, \"model-$epoch.bson\") encoder_μ encoder_logvar decoder\n",
    "    println(\"Done\")\n",
    "    return encoder_μ, encoder_logvar, decoder\n",
    "end\n",
    "\n",
    "function get_train_loader(batch_size, shuffle::Bool)\n",
    "    # The MNIST training set is made up of 60k 28 by 28 greyscale images\n",
    "    train_x, train_y = MNIST.traindata(Float32)\n",
    "    train_x = 1 .- reshape(train_x, (784, :))\n",
    "    return DataLoader((train_x, train_y), batchsize=batch_size, shuffle=shuffle, partial=false)\n",
    "end\n",
    "\n",
    "epoch_to_load = 20\n",
    "# Load the model and test set loader\n",
    "#encoder_mu, encoder_logvar, decoder = load_model(\"result\", epoch_to_load)\n",
    "encoder_mu, encoder_logvar, decoder = load_model(\"result/MNIST\", epoch_to_load)\n",
    "\n",
    "# pick a image in MNIST to denoise\n",
    "num = 8\n",
    "batch_size = 64\n",
    "shuffle_data = true\n",
    "dataloader = get_train_loader(batch_size, shuffle_data)\n",
    "\n",
    "(x_batch, y_batch) = first(dataloader)\n",
    "i = 1\n",
    "while y_batch[i] != num\n",
    "    i += 1\n",
    "end\n",
    "\n",
    "x = x_batch[:,i]\n",
    "noise_level = .1\n",
    "\n",
    "m = 300; A = randn(m, 784)/sqrt(m)\n",
    "\n",
    "y = A*x + noise_level * randn(m)\n",
    "\n",
    "stepsize = 1\n",
    "tolerance = 1e-7\n",
    "max_iter = 10000\n",
    "out_toggle = 1000\n",
    "z_rec_PLUGIn = PLUGIn_CS(decoder, y, A, max_iter, stepsize, tolerance, out_toggle)\n",
    "error = norm(x - decoder(z_rec_PLUGIn))\n",
    "println(\"reconstruction error: $error\")\n",
    "\n",
    "z_rec_GD = GD_CS(decoder, y, A, max_iter, stepsize, tolerance, out_toggle)\n",
    "\n",
    "recovered_image_PLUGIn = colorview(Gray, reshape(decoder(z_rec_PLUGIn), 28,28)' )\n",
    "recovered_image_GD = colorview(Gray, reshape(decoder(z_rec_GD), 28,28)' )\n",
    "\n",
    "true_image = colorview(Gray, reshape(x, 28,28)' );\n",
    "p1 = plot(true_image, framestyle = :none, bg =:black, title = \"original image\")\n",
    "p2 = plot(recovered_image_PLUGIn, framestyle = :none, bg =:black, title = \"recovered image PLUGIn,\\n m = $m\")\n",
    "p3 = plot(recovered_image_GD, framestyle = :none, bg =:black, title = \"recovered image GD,\\n m = $m\")\n",
    "plot(p1, p2, p3, layout = 3)\n"
   ]
  },
  {
   "cell_type": "code",
   "execution_count": null,
   "metadata": {},
   "outputs": [],
   "source": []
  }
 ],
 "metadata": {
  "kernelspec": {
   "display_name": "Julia 1.7.2",
   "language": "julia",
   "name": "julia-1.7"
  },
  "language_info": {
   "file_extension": ".jl",
   "mimetype": "application/julia",
   "name": "julia",
   "version": "1.7.2"
  }
 },
 "nbformat": 4,
 "nbformat_minor": 4
}
