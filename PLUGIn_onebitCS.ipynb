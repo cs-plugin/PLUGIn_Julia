{
 "cells": [
  {
   "cell_type": "code",
   "execution_count": 1,
   "metadata": {},
   "outputs": [],
   "source": [
    "using BSON: @load\n",
    "using Flux\n",
    "using Flux: chunk\n",
    "using Flux.Data: DataLoader\n",
    "using ImageFiltering\n",
    "using Images\n",
    "using ImageIO\n",
    "using MLDatasets: FashionMNIST\n",
    "using LinearAlgebra\n",
    "using MLDatasets\n",
    "using Plots"
   ]
  },
  {
   "cell_type": "code",
   "execution_count": 2,
   "metadata": {},
   "outputs": [
    {
     "data": {
      "text/plain": [
       "PLUGIn_onebitCS (generic function with 1 method)"
      ]
     },
     "execution_count": 2,
     "metadata": {},
     "output_type": "execute_result"
    }
   ],
   "source": [
    "function PLUGIn_onebitCS(G, y, A, max_iter, stepsize, tolerance, out_toggle)\n",
    "    \n",
    "    (_, z_dim) = size(Flux.params(G[1])[1]);\n",
    "    W = I(z_dim)\n",
    "  \n",
    "    #normalize the weights of the network\n",
    "    for i in 1:length(G)\n",
    "        _, s, _ = svd(Flux.params(G[i])[1])\n",
    "        W = Flux.params(G[i])[1] * W /s[1]\n",
    "    end\n",
    "  \n",
    "    z = randn(z_dim)\n",
    "    iter = 1\n",
    "    succ_error = 1\n",
    "  \n",
    "    while iter <= max_iter && succ_error > tolerance\n",
    "      \n",
    "      # d gives the PLUGIn direction\n",
    "      d = ( A * G(z) - y .* abs.(A * G(z)) )\n",
    "      d = W'*A'* d\n",
    "      z -= stepsize * d\n",
    "      succ_error = norm(stepsize * d)\n",
    "      if iter % out_toggle == 0  \n",
    "          println(\"====> In quasi-gradient: Iteration: $iter Successive error: $succ_error\")\n",
    "      end\n",
    "      iter += 1\n",
    "    end\n",
    "    println(\"====> In quasi-gradient: Iteration: $iter Successive error: $succ_error\")\n",
    "  \n",
    "    return z\n",
    "  end"
   ]
  },
  {
   "cell_type": "code",
   "execution_count": 3,
   "metadata": {},
   "outputs": [
    {
     "name": "stdout",
     "output_type": "stream",
     "text": [
      "====> In quasi-gradient: Iteration: 1000 Successive error: 0.00021660943968734872\n",
      "====> In quasi-gradient: Iteration: 2000 Successive error: 0.00011453944434981398\n",
      "====> In quasi-gradient: Iteration: 3000 Successive error: 0.0001509384259355804\n",
      "====> In quasi-gradient: Iteration: 4000 Successive error: 0.00011451963634021836\n",
      "====> In quasi-gradient: Iteration: 5000 Successive error: 0.00011821904631224346\n",
      "====> In quasi-gradient: Iteration: 6000 Successive error: 0.00011074361323474318\n",
      "====> In quasi-gradient: Iteration: 7000 Successive error: 0.00011079190632850194\n",
      "====> In quasi-gradient: Iteration: 8000 Successive error: 0.00011212540969189609\n",
      "====> In quasi-gradient: Iteration: 9000 Successive error: 0.00010045636630522627\n",
      "====> In quasi-gradient: Iteration: 10000 Successive error: 9.599566280699148e-5\n",
      "====> In quasi-gradient: Iteration: 10001 Successive error: 9.599566280699148e-5\n",
      "recovery error: 0.07538118122590837, reconstruction error: 0.12104606043087063\n"
     ]
    }
   ],
   "source": [
    "#setup a synthetic problem\n",
    "G = Chain(\n",
    "    Dense(20, 500, relu, bias = false; initW =(out,in) ->  randn(500, 20)/sqrt(500)),\n",
    "    Dense(500, 500, relu, bias = false; initW =(out,in) -> randn(500, 500)/sqrt(500)),\n",
    "    Dense(500, 784, relu, bias = false; initW =(out,in) -> randn(784, 500)/sqrt(784))\n",
    ")\n",
    "\n",
    "\n",
    "z = randn(20)\n",
    "m = 5000; A = randn(m, 784)/sqrt(m)\n",
    "y = sign.(A*G(z)) \n",
    "\n",
    "stepsize = 3\n",
    "tolerance = 1e-14\n",
    "max_iter = 10000\n",
    "out_toggle = 1000\n",
    "z_rec = PLUGIn_onebitCS(G,y,A, max_iter, stepsize, tolerance, out_toggle)\n",
    "recov_error = norm(z/norm(z) - z_rec/norm(z_rec))\n",
    "recon_error = norm(G(z) - G(z_rec))\n",
    "println(\"recovery error: $recov_error, reconstruction error: $recon_error\")"
   ]
  },
  {
   "cell_type": "code",
   "execution_count": 4,
   "metadata": {},
   "outputs": [
    {
     "ename": "LoadError",
     "evalue": "MethodError: no method matching norm()\n\u001b[0mClosest candidates are:\n\u001b[0m  norm(\u001b[91m::Union{Adjoint{T, <:AbstractVector} where T, Transpose{T, <:AbstractVector} where T}\u001b[39m, \u001b[91m::Real\u001b[39m) at /opt/julia-1.7.2/share/julia/stdlib/v1.7/LinearAlgebra/src/generic.jl:837\n\u001b[0m  norm(\u001b[91m::Union{SparseArrays.SparseVector{Tv, Ti}, SubArray{Tv, 1, <:SparseArrays.AbstractSparseMatrixCSC{Tv, Ti}, Tuple{Base.Slice{Base.OneTo{Int64}}, Int64}, false}, SubArray{Tv, 1, <:SparseArrays.AbstractSparseVector{Tv, Ti}, Tuple{Base.Slice{Base.OneTo{Int64}}}, false}} where {Tv, Ti}\u001b[39m) at /opt/julia-1.7.2/share/julia/stdlib/v1.7/SparseArrays/src/sparsevector.jl:1412\n\u001b[0m  norm(\u001b[91m::Union{SparseArrays.SparseVector{Tv, Ti}, SubArray{Tv, 1, <:SparseArrays.AbstractSparseMatrixCSC{Tv, Ti}, Tuple{Base.Slice{Base.OneTo{Int64}}, Int64}, false}, SubArray{Tv, 1, <:SparseArrays.AbstractSparseVector{Tv, Ti}, Tuple{Base.Slice{Base.OneTo{Int64}}}, false}} where {Tv, Ti}\u001b[39m, \u001b[91m::Real\u001b[39m) at /opt/julia-1.7.2/share/julia/stdlib/v1.7/SparseArrays/src/sparsevector.jl:1412\n\u001b[0m  ...",
     "output_type": "error",
     "traceback": [
      "MethodError: no method matching norm()\n\u001b[0mClosest candidates are:\n\u001b[0m  norm(\u001b[91m::Union{Adjoint{T, <:AbstractVector} where T, Transpose{T, <:AbstractVector} where T}\u001b[39m, \u001b[91m::Real\u001b[39m) at /opt/julia-1.7.2/share/julia/stdlib/v1.7/LinearAlgebra/src/generic.jl:837\n\u001b[0m  norm(\u001b[91m::Union{SparseArrays.SparseVector{Tv, Ti}, SubArray{Tv, 1, <:SparseArrays.AbstractSparseMatrixCSC{Tv, Ti}, Tuple{Base.Slice{Base.OneTo{Int64}}, Int64}, false}, SubArray{Tv, 1, <:SparseArrays.AbstractSparseVector{Tv, Ti}, Tuple{Base.Slice{Base.OneTo{Int64}}}, false}} where {Tv, Ti}\u001b[39m) at /opt/julia-1.7.2/share/julia/stdlib/v1.7/SparseArrays/src/sparsevector.jl:1412\n\u001b[0m  norm(\u001b[91m::Union{SparseArrays.SparseVector{Tv, Ti}, SubArray{Tv, 1, <:SparseArrays.AbstractSparseMatrixCSC{Tv, Ti}, Tuple{Base.Slice{Base.OneTo{Int64}}, Int64}, false}, SubArray{Tv, 1, <:SparseArrays.AbstractSparseVector{Tv, Ti}, Tuple{Base.Slice{Base.OneTo{Int64}}}, false}} where {Tv, Ti}\u001b[39m, \u001b[91m::Real\u001b[39m) at /opt/julia-1.7.2/share/julia/stdlib/v1.7/SparseArrays/src/sparsevector.jl:1412\n\u001b[0m  ...",
      "",
      "Stacktrace:",
      " [1] top-level scope",
      "   @ In[4]:18",
      " [2] eval",
      "   @ ./boot.jl:373 [inlined]",
      " [3] include_string(mapexpr::typeof(REPL.softscope), mod::Module, code::String, filename::String)",
      "   @ Base ./loading.jl:1196"
     ]
    }
   ],
   "source": [
    "#using Zygote to solve ERM for a synthetic problem\n",
    "G = Chain(\n",
    "    Dense(20, 500, relu, bias = false; initW =(out,in) ->  randn(500, 20)/sqrt(500)),\n",
    "    Dense(500, 500, relu, bias = false; initW =(out,in) -> randn(500, 500)/sqrt(500)),\n",
    "    Dense(500, 784, relu, bias = false; initW =(out,in) -> randn(784, 500)/sqrt(784))\n",
    ")\n",
    "\n",
    "\n",
    "z = randn(20)\n",
    "m = 5000; A = randn(m, 784)/sqrt(m)\n",
    "y = sign.(A*G(z)) + 1e-14 * randn(m)\n",
    "\n",
    "stepsize = 1\n",
    "tolerance = 1e-14\n",
    "max_iter = 10000\n",
    "out_toggle = 1000\n",
    "\n",
    "loss = norm()\n",
    "\n",
    "\n",
    "\n",
    "z_rec = PLUGIn_onebitCS(G,y,A, max_iter, stepsize, tolerance, out_toggle)\n",
    "recov_error = norm(z/norm(z) - z_rec/norm(z_rec))\n",
    "recon_error = norm(G(z) - G(z_rec))\n",
    "println(\"recovery error: $recov_error, reconstruction error: $recon_error\")"
   ]
  },
  {
   "cell_type": "code",
   "execution_count": null,
   "metadata": {},
   "outputs": [],
   "source": []
  }
 ],
 "metadata": {
  "kernelspec": {
   "display_name": "Julia 1.7.2",
   "language": "julia",
   "name": "julia-1.7"
  },
  "language_info": {
   "file_extension": ".jl",
   "mimetype": "application/julia",
   "name": "julia",
   "version": "1.7.2"
  }
 },
 "nbformat": 4,
 "nbformat_minor": 4
}
