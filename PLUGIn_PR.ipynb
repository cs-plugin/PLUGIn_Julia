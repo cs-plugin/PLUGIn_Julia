{
 "cells": [
  {
   "cell_type": "code",
   "execution_count": null,
   "metadata": {},
   "outputs": [],
   "source": [
    "using BSON: @load\n",
    "using Flux\n",
    "using Flux: chunk\n",
    "using Flux.Data: DataLoader\n",
    "using ImageFiltering\n",
    "using Images\n",
    "using ImageIO\n",
    "using MLDatasets: FashionMNIST\n",
    "using LinearAlgebra\n",
    "using MLDatasets\n",
    "using Plots\n"
   ]
  },
  {
   "cell_type": "code",
   "execution_count": 4,
   "metadata": {},
   "outputs": [
    {
     "data": {
      "text/plain": [
       "PLUGIn_PR (generic function with 1 method)"
      ]
     },
     "execution_count": 4,
     "metadata": {},
     "output_type": "execute_result"
    }
   ],
   "source": [
    "function PLUGIn_PR(G, y, A, max_iter, stepsize, tolerance, out_toggle)\n",
    "    \n",
    "    (_, z_dim) = size(Flux.params(G[1])[1]);\n",
    "    W = I(z_dim)\n",
    "  \n",
    "    #normalize the weights of the network\n",
    "    for i in 1:length(G)\n",
    "        _, s, _ = svd(Flux.params(G[i])[1])\n",
    "        W = Flux.params(G[i])[1] * W /s[1]\n",
    "    end\n",
    "  \n",
    "    z = randn(z_dim)\n",
    "    iter = 1\n",
    "    succ_error = 1\n",
    "  \n",
    "    while iter <= max_iter && succ_error > tolerance\n",
    "      \n",
    "      # d gives the PLUGIn direction\n",
    "      d = ( A * G(z) - y .* sign.(A * G(z)) )\n",
    "      d = W'*A'* d\n",
    "      z -= stepsize * d\n",
    "      succ_error = norm(stepsize * d)\n",
    "      if iter % out_toggle == 0  \n",
    "          println(\"====> In quasi-gradient: Iteration: $iter Successive error: $succ_error\")\n",
    "      end\n",
    "      iter += 1\n",
    "    end\n",
    "    println(\"====> In quasi-gradient: Iteration: $iter Successive error: $succ_error\")\n",
    "  \n",
    "    return z\n",
    "  end"
   ]
  },
  {
   "cell_type": "code",
   "execution_count": 5,
   "metadata": {},
   "outputs": [
    {
     "data": {
      "text/plain": [
       "GD_PR (generic function with 1 method)"
      ]
     },
     "execution_count": 5,
     "metadata": {},
     "output_type": "execute_result"
    }
   ],
   "source": [
    "function GD_PR(G, y, A, max_iter, stepsize, tolerance, out_toggle)\n",
    "\n",
    "    z = randn(20)\n",
    "    iter = 1\n",
    "    succ_error = 1\n",
    "    while iter <= max_iter && succ_error > tolerance\n",
    "        # d gives the PLUGIn direction\n",
    "        d = gradient(z -> norm(y - abs.(A*G(z)), 2)^2, z)[1]\n",
    "        z -= stepsize * d\n",
    "        succ_error = norm(stepsize * d)\n",
    "        if iter % out_toggle == 0  \n",
    "            println(\"====> In GD: Iteration: $iter Successive error: $succ_error\")\n",
    "        end\n",
    "        iter += 1\n",
    "    end\n",
    "    println(\"====> In GD: Iteration: $iter Successive error: $succ_error\")\n",
    "\n",
    "    return z\n",
    "end"
   ]
  },
  {
   "cell_type": "code",
   "execution_count": 6,
   "metadata": {},
   "outputs": [
    {
     "name": "stdout",
     "output_type": "stream",
     "text": [
      "====> In quasi-gradient: Iteration: 1000 Successive error: 2.542940644949997e-7\n",
      "====> In quasi-gradient: Iteration: 2000 Successive error: 5.451934073810935e-11\n",
      "====> In quasi-gradient: Iteration: 3000 Successive error: 1.1660521537413409e-14\n",
      "====> In quasi-gradient: Iteration: 3019 Successive error: 9.935528179771822e-15\n",
      "====> In GD: Iteration: 146 Successive error: 9.039545592062112e-15\n",
      "PLUGIn: recovery error: 2.948998166155397e-13, reconstruction error: 3.2717200944562515e-13\n",
      "Gradient Descent: recovery error: 8.451635808440152e-15, reconstruction error: 7.384925827552236e-15\n"
     ]
    }
   ],
   "source": [
    "#setup a synthetic problem\n",
    "G = Chain(\n",
    "    Dense(20, 500, relu, bias = false; initW =(out,in) ->  randn(500, 20)/sqrt(500)),\n",
    "    Dense(500, 500, relu, bias = false; initW =(out,in) -> randn(500, 500)/sqrt(500)),\n",
    "    Dense(500, 784, relu, bias = false; initW =(out,in) -> randn(784, 500)/sqrt(784))\n",
    ")\n",
    "\n",
    "\n",
    "z = randn(20)\n",
    "m = 500; A = randn(m, 784)/sqrt(m)\n",
    "y = abs.(A*G(z)) \n",
    "\n",
    "stepsize = 3\n",
    "tolerance = 1e-14\n",
    "max_iter = 10000\n",
    "out_toggle = 1000\n",
    "z_rec_PLUGIn = PLUGIn_PR(G,y,A, max_iter, stepsize, tolerance, out_toggle)\n",
    "z_rec_GD = GD_PR(G,y,A, max_iter, stepsize, tolerance, out_toggle)\n",
    "\n",
    "recov_error_PLUGIn = norm(z/norm(z) - z_rec_PLUGIn/norm(z_rec_PLUGIn))\n",
    "recon_error_PLUGIn = norm(G(z) - G(z_rec_PLUGIn))\n",
    "println(\"PLUGIn: recovery error: $recov_error_PLUGIn, reconstruction error: $recon_error_PLUGIn\")\n",
    "\n",
    "recov_error_GD = norm(z/norm(z) - z_rec_GD/norm(z_rec_GD))\n",
    "recon_error_GD = norm(G(z) - G(z_rec_GD))\n",
    "println(\"Gradient Descent: recovery error: $recov_error_GD, reconstruction error: $recon_error_GD\")"
   ]
  },
  {
   "cell_type": "code",
   "execution_count": null,
   "metadata": {},
   "outputs": [],
   "source": [
    "# experiments with MNIST dataset\n",
    "function load_model(load_dir::String, epoch::Int)\n",
    "    print(\"Loading model...\")\n",
    "    @load joinpath(load_dir, \"model-$epoch.bson\") encoder_μ encoder_logvar decoder\n",
    "    println(\"Done\")\n",
    "    return encoder_μ, encoder_logvar, decoder\n",
    "end\n",
    "\n",
    "function get_train_loader(batch_size, shuffle::Bool)\n",
    "    # The MNIST training set is made up of 60k 28 by 28 greyscale images\n",
    "    train_x, train_y = MNIST.traindata(Float32)\n",
    "    train_x = 1 .- reshape(train_x, (784, :))\n",
    "    return DataLoader((train_x, train_y), batchsize=batch_size, shuffle=shuffle, partial=false)\n",
    "end\n",
    "\n",
    "epoch_to_load = 20\n",
    "# Load the model and test set loader\n",
    "encoder_mu, encoder_logvar, decoder = load_model(\"result/MNIST\", epoch_to_load)\n",
    "\n",
    "# pick a image in MNIST to denoise\n",
    "num = 8\n",
    "batch_size = 64\n",
    "shuffle_data = true\n",
    "dataloader = get_train_loader(batch_size, shuffle_data)\n",
    "\n",
    "(x_batch, y_batch) = first(dataloader)\n",
    "i = 1\n",
    "while y_batch[i] != num\n",
    "    i += 1\n",
    "end\n",
    "\n",
    "x = x_batch[:,i]\n",
    "noise_level = .1\n",
    "\n",
    "m = 300; A = randn(m, 784)/sqrt(m)\n",
    "\n",
    "y = abs.(A*x) + noise_level * randn(m)\n",
    "\n",
    "stepsize = 1\n",
    "tolerance = 1e-7\n",
    "max_iter = 10000\n",
    "out_toggle = 1000\n",
    "z_rec_PLUGIn = PLUGIn_PR(decoder, y, A, max_iter, stepsize, tolerance, out_toggle)\n",
    "error = norm(x - decoder(z_rec_PLUGIn))\n",
    "println(\"reconstruction error: $error\")\n",
    "\n",
    "z_rec_GD = GD_PR(decoder, y, A, max_iter, stepsize, tolerance, out_toggle)\n",
    "\n",
    "recovered_image_PLUGIn = colorview(Gray, reshape(decoder(z_rec_PLUGIn), 28,28)' )\n",
    "recovered_image_GD = colorview(Gray, reshape(decoder(z_rec_GD), 28,28)' )\n",
    "\n",
    "true_image = colorview(Gray, reshape(x, 28,28)' );\n",
    "p1 = plot(true_image, framestyle = :none, bg =:black, title = \"original image\")\n",
    "p2 = plot(recovered_image_PLUGIn, framestyle = :none, bg =:black, title = \"recovered image PLUGIn,\\n m = $m\")\n",
    "p3 = plot(recovered_image_GD, framestyle = :none, bg =:black, title = \"recovered image GD,\\n m = $m\")\n",
    "plot(p1, p2, p3, layout = 3)\n"
   ]
  },
  {
   "cell_type": "code",
   "execution_count": null,
   "metadata": {},
   "outputs": [],
   "source": []
  }
 ],
 "metadata": {
  "kernelspec": {
   "display_name": "Julia 1.7.2",
   "language": "julia",
   "name": "julia-1.7"
  },
  "language_info": {
   "file_extension": ".jl",
   "mimetype": "application/julia",
   "name": "julia",
   "version": "1.7.2"
  }
 },
 "nbformat": 4,
 "nbformat_minor": 4
}
